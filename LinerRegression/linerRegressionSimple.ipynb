{
 "cells": [
  {
   "cell_type": "code",
   "execution_count": 10,
   "metadata": {
    "collapsed": true
   },
   "outputs": [
    {
     "name": "stdout",
     "output_type": "stream",
     "text": [
      "2\n"
     ]
    }
   ],
   "source": [
    "import warnings\n",
    "\n",
    "warnings.filterwarnings(\"ignore\")\n",
    "import numpy as np\n",
    "import paddle\n",
    "def synthetic_data(w, b, num_examples):\n",
    "    \"\"\"生成y=Xw+b+噪声\"\"\"\n",
    "    X = paddle.normal(0, 1, (num_examples, len(w)))\n",
    "    y = paddle.matmul(X, w) + b\n",
    "    y += paddle.normal(0, 0.01, y.shape)\n",
    "    return X, y.reshape((-1, 1))\n",
    "\n",
    "true_w = paddle.to_tensor([2, -3.4])\n",
    "true_b = 4.2\n",
    "features, labels = synthetic_data(true_w, true_b, 1000)\n",
    "print(len(true_w))"
   ]
  },
  {
   "cell_type": "code",
   "execution_count": 11,
   "outputs": [
    {
     "data": {
      "text/plain": "[Tensor(shape=[10, 2], dtype=float32, place=Place(gpu:0), stop_gradient=True,\n        [[-0.21706608, -0.05333515],\n         [-1.15808201, -0.00936312],\n         [ 0.64921069, -1.29995191],\n         [ 1.18909514, -0.51112437],\n         [-0.52607369,  0.23117609],\n         [-0.50837523, -0.37801442],\n         [ 2.02070999, -0.59552199],\n         [-0.78526264, -2.53457332],\n         [-0.60161507, -0.75507200],\n         [ 1.21321237,  0.71976131]]),\n Tensor(shape=[10, 1], dtype=float32, place=Place(gpu:0), stop_gradient=True,\n        [[3.92788410 ],\n         [1.90915704 ],\n         [9.89881134 ],\n         [8.29380512 ],\n         [2.36448121 ],\n         [4.47440910 ],\n         [10.27638340],\n         [11.24937153],\n         [5.57783747 ],\n         [4.18148613 ]])]"
     },
     "execution_count": 11,
     "metadata": {},
     "output_type": "execute_result"
    }
   ],
   "source": [
    "\n",
    "def load_array(data_arrays, batch_size, is_train=True):\n",
    "    \"\"\"构造一个Paddle数据迭代器\"\"\"\n",
    "    dataset = paddle.io.TensorDataset(data_arrays)\n",
    "    return paddle.io.DataLoader(dataset, batch_size=batch_size,\n",
    "                                shuffle=is_train,\n",
    "                                return_list=True)\n",
    "\n",
    "batch_size = 10\n",
    "data_iter = load_array((features, labels), batch_size)\n",
    "\n",
    "next(iter(data_iter))"
   ],
   "metadata": {
    "collapsed": false
   }
  },
  {
   "cell_type": "code",
   "execution_count": 13,
   "outputs": [],
   "source": [
    "# nn是神经网络的缩写\n",
    "from paddle import nn\n",
    "\n",
    "net = nn.Sequential(nn.Linear(2, 1))"
   ],
   "metadata": {
    "collapsed": false
   }
  },
  {
   "cell_type": "code",
   "execution_count": 15,
   "outputs": [],
   "source": [
    "wei_attr = paddle.ParamAttr(initializer=paddle.nn.initializer.Normal(0, 0.01))\n",
    "bias_attr = paddle.ParamAttr(initializer=None)\n",
    "net = nn.Sequential(nn.Linear(2, 1, weight_attr=wei_attr, bias_attr=bias_attr))"
   ],
   "metadata": {
    "collapsed": false
   }
  },
  {
   "cell_type": "code",
   "execution_count": 17,
   "outputs": [],
   "source": [
    "loss = nn.MSELoss()"
   ],
   "metadata": {
    "collapsed": false
   }
  },
  {
   "cell_type": "code",
   "execution_count": 19,
   "outputs": [],
   "source": [
    "triner = paddle.optimizer.SGD(learning_rate=0.02, parameters=net.parameters())"
   ],
   "metadata": {
    "collapsed": false
   }
  },
  {
   "cell_type": "code",
   "execution_count": 25,
   "outputs": [
    {
     "name": "stdout",
     "output_type": "stream",
     "text": [
      "epoch 1,loss Tensor(shape=[], dtype=float32, place=Place(gpu:0), stop_gradient=False,\n",
      "       0.00009634)\n",
      "epoch 2,loss Tensor(shape=[], dtype=float32, place=Place(gpu:0), stop_gradient=False,\n",
      "       0.00009663)\n",
      "epoch 3,loss Tensor(shape=[], dtype=float32, place=Place(gpu:0), stop_gradient=False,\n",
      "       0.00009567)\n",
      "epoch 4,loss Tensor(shape=[], dtype=float32, place=Place(gpu:0), stop_gradient=False,\n",
      "       0.00009546)\n",
      "epoch 5,loss Tensor(shape=[], dtype=float32, place=Place(gpu:0), stop_gradient=False,\n",
      "       0.00009569)\n",
      "epoch 6,loss Tensor(shape=[], dtype=float32, place=Place(gpu:0), stop_gradient=False,\n",
      "       0.00009536)\n",
      "epoch 7,loss Tensor(shape=[], dtype=float32, place=Place(gpu:0), stop_gradient=False,\n",
      "       0.00009563)\n",
      "epoch 8,loss Tensor(shape=[], dtype=float32, place=Place(gpu:0), stop_gradient=False,\n",
      "       0.00009652)\n",
      "epoch 9,loss Tensor(shape=[], dtype=float32, place=Place(gpu:0), stop_gradient=False,\n",
      "       0.00009617)\n",
      "epoch 10,loss Tensor(shape=[], dtype=float32, place=Place(gpu:0), stop_gradient=False,\n",
      "       0.00009606)\n",
      "epoch 11,loss Tensor(shape=[], dtype=float32, place=Place(gpu:0), stop_gradient=False,\n",
      "       0.00009575)\n",
      "epoch 12,loss Tensor(shape=[], dtype=float32, place=Place(gpu:0), stop_gradient=False,\n",
      "       0.00009535)\n",
      "epoch 13,loss Tensor(shape=[], dtype=float32, place=Place(gpu:0), stop_gradient=False,\n",
      "       0.00009567)\n",
      "epoch 14,loss Tensor(shape=[], dtype=float32, place=Place(gpu:0), stop_gradient=False,\n",
      "       0.00009562)\n",
      "epoch 15,loss Tensor(shape=[], dtype=float32, place=Place(gpu:0), stop_gradient=False,\n",
      "       0.00009537)\n",
      "epoch 16,loss Tensor(shape=[], dtype=float32, place=Place(gpu:0), stop_gradient=False,\n",
      "       0.00009732)\n",
      "epoch 17,loss Tensor(shape=[], dtype=float32, place=Place(gpu:0), stop_gradient=False,\n",
      "       0.00009593)\n",
      "epoch 18,loss Tensor(shape=[], dtype=float32, place=Place(gpu:0), stop_gradient=False,\n",
      "       0.00009580)\n",
      "epoch 19,loss Tensor(shape=[], dtype=float32, place=Place(gpu:0), stop_gradient=False,\n",
      "       0.00009551)\n",
      "epoch 20,loss Tensor(shape=[], dtype=float32, place=Place(gpu:0), stop_gradient=False,\n",
      "       0.00009609)\n",
      "epoch 21,loss Tensor(shape=[], dtype=float32, place=Place(gpu:0), stop_gradient=False,\n",
      "       0.00009663)\n",
      "epoch 22,loss Tensor(shape=[], dtype=float32, place=Place(gpu:0), stop_gradient=False,\n",
      "       0.00009592)\n",
      "epoch 23,loss Tensor(shape=[], dtype=float32, place=Place(gpu:0), stop_gradient=False,\n",
      "       0.00009551)\n",
      "epoch 24,loss Tensor(shape=[], dtype=float32, place=Place(gpu:0), stop_gradient=False,\n",
      "       0.00009589)\n",
      "epoch 25,loss Tensor(shape=[], dtype=float32, place=Place(gpu:0), stop_gradient=False,\n",
      "       0.00009562)\n",
      "epoch 26,loss Tensor(shape=[], dtype=float32, place=Place(gpu:0), stop_gradient=False,\n",
      "       0.00009567)\n",
      "epoch 27,loss Tensor(shape=[], dtype=float32, place=Place(gpu:0), stop_gradient=False,\n",
      "       0.00009540)\n",
      "epoch 28,loss Tensor(shape=[], dtype=float32, place=Place(gpu:0), stop_gradient=False,\n",
      "       0.00009607)\n",
      "epoch 29,loss Tensor(shape=[], dtype=float32, place=Place(gpu:0), stop_gradient=False,\n",
      "       0.00009633)\n",
      "epoch 30,loss Tensor(shape=[], dtype=float32, place=Place(gpu:0), stop_gradient=False,\n",
      "       0.00009558)\n",
      "epoch 31,loss Tensor(shape=[], dtype=float32, place=Place(gpu:0), stop_gradient=False,\n",
      "       0.00009579)\n",
      "epoch 32,loss Tensor(shape=[], dtype=float32, place=Place(gpu:0), stop_gradient=False,\n",
      "       0.00009538)\n",
      "epoch 33,loss Tensor(shape=[], dtype=float32, place=Place(gpu:0), stop_gradient=False,\n",
      "       0.00009562)\n",
      "epoch 34,loss Tensor(shape=[], dtype=float32, place=Place(gpu:0), stop_gradient=False,\n",
      "       0.00009539)\n",
      "epoch 35,loss Tensor(shape=[], dtype=float32, place=Place(gpu:0), stop_gradient=False,\n",
      "       0.00009560)\n",
      "epoch 36,loss Tensor(shape=[], dtype=float32, place=Place(gpu:0), stop_gradient=False,\n",
      "       0.00009555)\n",
      "epoch 37,loss Tensor(shape=[], dtype=float32, place=Place(gpu:0), stop_gradient=False,\n",
      "       0.00009666)\n",
      "epoch 38,loss Tensor(shape=[], dtype=float32, place=Place(gpu:0), stop_gradient=False,\n",
      "       0.00009567)\n",
      "epoch 39,loss Tensor(shape=[], dtype=float32, place=Place(gpu:0), stop_gradient=False,\n",
      "       0.00009581)\n",
      "epoch 40,loss Tensor(shape=[], dtype=float32, place=Place(gpu:0), stop_gradient=False,\n",
      "       0.00009616)\n",
      "epoch 41,loss Tensor(shape=[], dtype=float32, place=Place(gpu:0), stop_gradient=False,\n",
      "       0.00009608)\n",
      "epoch 42,loss Tensor(shape=[], dtype=float32, place=Place(gpu:0), stop_gradient=False,\n",
      "       0.00009550)\n",
      "epoch 43,loss Tensor(shape=[], dtype=float32, place=Place(gpu:0), stop_gradient=False,\n",
      "       0.00009574)\n",
      "epoch 44,loss Tensor(shape=[], dtype=float32, place=Place(gpu:0), stop_gradient=False,\n",
      "       0.00009548)\n",
      "epoch 45,loss Tensor(shape=[], dtype=float32, place=Place(gpu:0), stop_gradient=False,\n",
      "       0.00009587)\n",
      "epoch 46,loss Tensor(shape=[], dtype=float32, place=Place(gpu:0), stop_gradient=False,\n",
      "       0.00009585)\n",
      "epoch 47,loss Tensor(shape=[], dtype=float32, place=Place(gpu:0), stop_gradient=False,\n",
      "       0.00009573)\n",
      "epoch 48,loss Tensor(shape=[], dtype=float32, place=Place(gpu:0), stop_gradient=False,\n",
      "       0.00009539)\n",
      "epoch 49,loss Tensor(shape=[], dtype=float32, place=Place(gpu:0), stop_gradient=False,\n",
      "       0.00009547)\n",
      "epoch 50,loss Tensor(shape=[], dtype=float32, place=Place(gpu:0), stop_gradient=False,\n",
      "       0.00009627)\n",
      "epoch 51,loss Tensor(shape=[], dtype=float32, place=Place(gpu:0), stop_gradient=False,\n",
      "       0.00009545)\n",
      "epoch 52,loss Tensor(shape=[], dtype=float32, place=Place(gpu:0), stop_gradient=False,\n",
      "       0.00009683)\n",
      "epoch 53,loss Tensor(shape=[], dtype=float32, place=Place(gpu:0), stop_gradient=False,\n",
      "       0.00009702)\n",
      "epoch 54,loss Tensor(shape=[], dtype=float32, place=Place(gpu:0), stop_gradient=False,\n",
      "       0.00009585)\n",
      "epoch 55,loss Tensor(shape=[], dtype=float32, place=Place(gpu:0), stop_gradient=False,\n",
      "       0.00009551)\n",
      "epoch 56,loss Tensor(shape=[], dtype=float32, place=Place(gpu:0), stop_gradient=False,\n",
      "       0.00009532)\n",
      "epoch 57,loss Tensor(shape=[], dtype=float32, place=Place(gpu:0), stop_gradient=False,\n",
      "       0.00009696)\n",
      "epoch 58,loss Tensor(shape=[], dtype=float32, place=Place(gpu:0), stop_gradient=False,\n",
      "       0.00009665)\n",
      "epoch 59,loss Tensor(shape=[], dtype=float32, place=Place(gpu:0), stop_gradient=False,\n",
      "       0.00009599)\n",
      "epoch 60,loss Tensor(shape=[], dtype=float32, place=Place(gpu:0), stop_gradient=False,\n",
      "       0.00009571)\n"
     ]
    }
   ],
   "source": [
    "num_epochs = 6\n",
    "for epoch in range(num_epochs):\n",
    "    for i,(X, y) in enumerate (data_iter()):\n",
    "        l = loss(net(X) ,y)\n",
    "        triner.clear_grad()\n",
    "        l.backward()\n",
    "        triner.step()\n",
    "    l = loss(net(features), labels)\n",
    "    print(f'epoch {epoch + 1},'f'loss {l}')"
   ],
   "metadata": {
    "collapsed": false
   }
  },
  {
   "cell_type": "code",
   "execution_count": 26,
   "outputs": [
    {
     "name": "stdout",
     "output_type": "stream",
     "text": [
      "w的估计误差： Tensor(shape=[2], dtype=float32, place=Place(gpu:0), stop_gradient=False,\n",
      "       [ 0.00107181, -0.00071168])\n",
      "b的估计误差： Tensor(shape=[1], dtype=float32, place=Place(gpu:0), stop_gradient=False,\n",
      "       [0.00008011])\n"
     ]
    }
   ],
   "source": [
    "w = net[0].weight\n",
    "print('w的估计误差：', true_w - w.reshape(true_w.shape))\n",
    "b = net[0].bias\n",
    "print('b的估计误差：', true_b - b)"
   ],
   "metadata": {
    "collapsed": false
   }
  }
 ],
 "metadata": {
  "kernelspec": {
   "display_name": "Python 3",
   "language": "python",
   "name": "python3"
  },
  "language_info": {
   "codemirror_mode": {
    "name": "ipython",
    "version": 2
   },
   "file_extension": ".py",
   "mimetype": "text/x-python",
   "name": "python",
   "nbconvert_exporter": "python",
   "pygments_lexer": "ipython2",
   "version": "2.7.6"
  }
 },
 "nbformat": 4,
 "nbformat_minor": 0
}
