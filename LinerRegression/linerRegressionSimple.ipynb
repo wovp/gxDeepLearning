{
 "cells": [
  {
   "cell_type": "code",
   "execution_count": 10,
   "metadata": {
    "collapsed": true
   },
   "outputs": [
    {
     "name": "stdout",
     "output_type": "stream",
     "text": [
      "2\n"
     ]
    }
   ],
   "source": [
    "import warnings\n",
    "\n",
    "warnings.filterwarnings(\"ignore\")\n",
    "import numpy as np\n",
    "import paddle\n",
    "def synthetic_data(w, b, num_examples):\n",
    "    \"\"\"生成y=Xw+b+噪声\"\"\"\n",
    "    X = paddle.normal(0, 1, (num_examples, len(w)))\n",
    "    y = paddle.matmul(X, w) + b\n",
    "    y += paddle.normal(0, 0.01, y.shape)\n",
    "    return X, y.reshape((-1, 1))\n",
    "\n",
    "true_w = paddle.to_tensor([2, -3.4])\n",
    "true_b = 4.2\n",
    "features, labels = synthetic_data(true_w, true_b, 1000)\n",
    "print(len(true_w))"
   ]
  },
  {
   "cell_type": "code",
   "execution_count": 11,
   "outputs": [
    {
     "data": {
      "text/plain": "[Tensor(shape=[10, 2], dtype=float32, place=Place(gpu:0), stop_gradient=True,\n        [[-0.21706608, -0.05333515],\n         [-1.15808201, -0.00936312],\n         [ 0.64921069, -1.29995191],\n         [ 1.18909514, -0.51112437],\n         [-0.52607369,  0.23117609],\n         [-0.50837523, -0.37801442],\n         [ 2.02070999, -0.59552199],\n         [-0.78526264, -2.53457332],\n         [-0.60161507, -0.75507200],\n         [ 1.21321237,  0.71976131]]),\n Tensor(shape=[10, 1], dtype=float32, place=Place(gpu:0), stop_gradient=True,\n        [[3.92788410 ],\n         [1.90915704 ],\n         [9.89881134 ],\n         [8.29380512 ],\n         [2.36448121 ],\n         [4.47440910 ],\n         [10.27638340],\n         [11.24937153],\n         [5.57783747 ],\n         [4.18148613 ]])]"
     },
     "execution_count": 11,
     "metadata": {},
     "output_type": "execute_result"
    }
   ],
   "source": [
    "\n",
    "def load_array(data_arrays, batch_size, is_train=True):\n",
    "    \"\"\"构造一个Paddle数据迭代器\"\"\"\n",
    "    dataset = paddle.io.TensorDataset(data_arrays)\n",
    "    return paddle.io.DataLoader(dataset, batch_size=batch_size,\n",
    "                                shuffle=is_train,\n",
    "                                return_list=True)\n",
    "\n",
    "batch_size = 10\n",
    "data_iter = load_array((features, labels), batch_size)\n",
    "\n",
    "next(iter(data_iter))"
   ],
   "metadata": {
    "collapsed": false
   }
  },
  {
   "cell_type": "code",
   "execution_count": 13,
   "outputs": [],
   "source": [
    "# nn是神经网络的缩写\n",
    "from paddle import nn\n",
    "\n",
    "net = nn.Sequential(nn.Linear(2, 1))"
   ],
   "metadata": {
    "collapsed": false
   }
  },
  {
   "cell_type": "code",
   "execution_count": null,
   "outputs": [],
   "source": [
    "wei_attr = paddle.ParamAttr(initializer=paddle.nn.initializer.Normal(0, 0.01))\n",
    "bias_attr = paddle.ParamAttr(initializer=None)"
   ],
   "metadata": {
    "collapsed": false
   }
  }
 ],
 "metadata": {
  "kernelspec": {
   "display_name": "Python 3",
   "language": "python",
   "name": "python3"
  },
  "language_info": {
   "codemirror_mode": {
    "name": "ipython",
    "version": 2
   },
   "file_extension": ".py",
   "mimetype": "text/x-python",
   "name": "python",
   "nbconvert_exporter": "python",
   "pygments_lexer": "ipython2",
   "version": "2.7.6"
  }
 },
 "nbformat": 4,
 "nbformat_minor": 0
}
