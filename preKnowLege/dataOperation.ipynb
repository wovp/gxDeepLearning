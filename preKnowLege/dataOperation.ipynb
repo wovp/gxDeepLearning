{
 "cells": [
  {
   "cell_type": "code",
   "execution_count": 2,
   "metadata": {
    "collapsed": true
   },
   "outputs": [],
   "source": [
    "import warnings\n",
    "\n",
    "warnings.filterwarnings(action='ignore')\n",
    "import paddle"
   ]
  },
  {
   "cell_type": "code",
   "execution_count": 8,
   "outputs": [
    {
     "data": {
      "text/plain": "<bound method numel of Tensor(shape=[12], dtype=int64, place=Place(gpu:0), stop_gradient=True,\n       [0 , 1 , 2 , 3 , 4 , 5 , 6 , 7 , 8 , 9 , 10, 11])>"
     },
     "execution_count": 8,
     "metadata": {},
     "output_type": "execute_result"
    }
   ],
   "source": [
    "x = paddle.arange(12)\n",
    "\n",
    "x.numel"
   ],
   "metadata": {
    "collapsed": false
   }
  },
  {
   "cell_type": "code",
   "execution_count": 12,
   "outputs": [
    {
     "name": "stdout",
     "output_type": "stream",
     "text": [
      "Tensor(shape=[3, 4], dtype=int64, place=Place(gpu:0), stop_gradient=True,\n",
      "       [[0 , 1 , 2 , 3 ],\n",
      "        [4 , 5 , 6 , 7 ],\n",
      "        [8 , 9 , 10, 11]])\n"
     ]
    }
   ],
   "source": [
    "x = paddle.reshape(x, (3, 4))\n",
    "print(x)"
   ],
   "metadata": {
    "collapsed": false
   }
  },
  {
   "cell_type": "code",
   "execution_count": 19,
   "outputs": [
    {
     "name": "stdout",
     "output_type": "stream",
     "text": [
      "Tensor(shape=[3, 4], dtype=float32, place=Place(gpu:0), stop_gradient=True,\n",
      "       [[0. , 1. , 2. , 3. ],\n",
      "        [4. , 5. , 6. , 7. ],\n",
      "        [8. , 9. , 10., 11.]])\n",
      "Tensor(shape=[3, 4], dtype=float32, place=Place(gpu:0), stop_gradient=True,\n",
      "       [[2., 1., 4., 3.],\n",
      "        [1., 2., 3., 4.],\n",
      "        [4., 3., 2., 1.]])\n",
      "Tensor(shape=[6, 4], dtype=float32, place=Place(gpu:0), stop_gradient=True,\n",
      "       [[0. , 1. , 2. , 3. ],\n",
      "        [4. , 5. , 6. , 7. ],\n",
      "        [8. , 9. , 10., 11.],\n",
      "        [2. , 1. , 4. , 3. ],\n",
      "        [1. , 2. , 3. , 4. ],\n",
      "        [4. , 3. , 2. , 1. ]])\n",
      "Tensor(shape=[3, 8], dtype=float32, place=Place(gpu:0), stop_gradient=True,\n",
      "       [[0. , 1. , 2. , 3. , 2. , 1. , 4. , 3. ],\n",
      "        [4. , 5. , 6. , 7. , 1. , 2. , 3. , 4. ],\n",
      "        [8. , 9. , 10., 11., 4. , 3. , 2. , 1. ]])\n"
     ]
    }
   ],
   "source": [
    "X = paddle.arange(12, dtype='float32').reshape((3, 4))\n",
    "Y = paddle.to_tensor([[2.0, 1, 4, 3], [1, 2, 3, 4], [4, 3, 2, 1]])\n",
    "print(X)\n",
    "print(Y)\n",
    "print(paddle.concat((X, Y), axis=0))\n",
    "print(paddle.concat((X, Y), axis=1))"
   ],
   "metadata": {
    "collapsed": false
   }
  }
 ],
 "metadata": {
  "kernelspec": {
   "display_name": "Python 3",
   "language": "python",
   "name": "python3"
  },
  "language_info": {
   "codemirror_mode": {
    "name": "ipython",
    "version": 2
   },
   "file_extension": ".py",
   "mimetype": "text/x-python",
   "name": "python",
   "nbconvert_exporter": "python",
   "pygments_lexer": "ipython2",
   "version": "2.7.6"
  }
 },
 "nbformat": 4,
 "nbformat_minor": 0
}
