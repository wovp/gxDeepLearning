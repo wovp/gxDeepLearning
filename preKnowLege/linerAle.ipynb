{
 "cells": [
  {
   "cell_type": "code",
   "execution_count": 2,
   "metadata": {
    "collapsed": true
   },
   "outputs": [
    {
     "name": "stdout",
     "output_type": "stream",
     "text": [
      "Tensor(shape=[2, 3, 4], dtype=int64, place=Place(gpu:0), stop_gradient=True,\n",
      "       [[[0 , 1 , 2 , 3 ],\n",
      "         [4 , 5 , 6 , 7 ],\n",
      "         [8 , 9 , 10, 11]],\n",
      "\n",
      "        [[12, 13, 14, 15],\n",
      "         [16, 17, 18, 19],\n",
      "         [20, 21, 22, 23]]])\n",
      "2\n"
     ]
    }
   ],
   "source": [
    "import paddle\n",
    "X = paddle.reshape(paddle.arange(24), (2,3,4))\n",
    "print(X)\n",
    "print(len(X))"
   ]
  },
  {
   "cell_type": "code",
   "execution_count": 5,
   "outputs": [
    {
     "name": "stdout",
     "output_type": "stream",
     "text": [
      "Tensor(shape=[5, 4], dtype=float32, place=Place(gpu:0), stop_gradient=True,\n",
      "       [[0. , 1. , 2. , 3. ],\n",
      "        [4. , 5. , 6. , 7. ],\n",
      "        [8. , 9. , 10., 11.],\n",
      "        [12., 13., 14., 15.],\n",
      "        [16., 17., 18., 19.]])\n",
      "Tensor(shape=[4], dtype=float32, place=Place(gpu:0), stop_gradient=True,\n",
      "       [0., 1., 2., 3.])\n",
      "Tensor(shape=[5], dtype=float32, place=Place(gpu:0), stop_gradient=True,\n",
      "       [14. , 38. , 62. , 86. , 110.])\n"
     ]
    }
   ],
   "source": [
    "# 矩阵向量积\n",
    "import paddle\n",
    "A = paddle.reshape(paddle.arange(20, dtype=paddle.float32), (5, 4))\n",
    "print(A)\n",
    "x = paddle.arange(4,dtype=paddle.float32)\n",
    "print(x)\n",
    "print(paddle.mv(A,x))\n"
   ],
   "metadata": {
    "collapsed": false
   }
  }
 ],
 "metadata": {
  "kernelspec": {
   "display_name": "Python 3",
   "language": "python",
   "name": "python3"
  },
  "language_info": {
   "codemirror_mode": {
    "name": "ipython",
    "version": 2
   },
   "file_extension": ".py",
   "mimetype": "text/x-python",
   "name": "python",
   "nbconvert_exporter": "python",
   "pygments_lexer": "ipython2",
   "version": "2.7.6"
  }
 },
 "nbformat": 4,
 "nbformat_minor": 0
}
